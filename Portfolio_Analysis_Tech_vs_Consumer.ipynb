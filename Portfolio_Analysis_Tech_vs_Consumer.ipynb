{
 "cells": [
  {
   "cell_type": "markdown",
   "id": "8c7aaa53-dc11-48ce-afd6-dc088a28c007",
   "metadata": {},
   "source": [
    "# Project 1 Portfolio Analyzer Consumer Stocks VS. Tech Stocks\n",
    "\n",
    "We will be projecting future returns of a portfolio comprised of five consumer stocks as well as a a portfolio comprised of 5 tech stocks over a 15 and 20 year period in order to evaluate the better long term buy. The asset allocation between between stocks and bonds will remain the same between both portfolios.\n",
    "\n",
    "\n",
    "The Stocks we will be analyzing are \n",
    "\n",
    "# Consumer Stocks:             \n",
    "\n",
    "* P&G\n",
    "* Johnson and Johnson\n",
    "* Walmart\n",
    "* Kellogg\n",
    "* Coca Cola\n",
    "\n",
    "# Tech Stocks:\n",
    "\n",
    "* Amazon \n",
    "* Meta\n",
    "* Google\n",
    "* Tesla\n",
    "* NVIDIA\n",
    "\n"
   ]
  },
  {
   "cell_type": "code",
   "execution_count": 1,
   "id": "673e7969-b85f-4f06-9bb4-87f9eb8239b4",
   "metadata": {},
   "outputs": [
    {
     "ename": "ModuleNotFoundError",
     "evalue": "No module named 'dotenv'",
     "output_type": "error",
     "traceback": [
      "\u001b[1;31m---------------------------------------------------------------------------\u001b[0m",
      "\u001b[1;31mModuleNotFoundError\u001b[0m                       Traceback (most recent call last)",
      "\u001b[1;32m~\\AppData\\Local\\Temp\\ipykernel_23952\\1659942769.py\u001b[0m in \u001b[0;36m<module>\u001b[1;34m\u001b[0m\n\u001b[0;32m      5\u001b[0m \u001b[1;32mimport\u001b[0m \u001b[0mrequests\u001b[0m\u001b[1;33m\u001b[0m\u001b[1;33m\u001b[0m\u001b[0m\n\u001b[0;32m      6\u001b[0m \u001b[1;32mimport\u001b[0m \u001b[0mjson\u001b[0m\u001b[1;33m\u001b[0m\u001b[1;33m\u001b[0m\u001b[0m\n\u001b[1;32m----> 7\u001b[1;33m \u001b[1;32mfrom\u001b[0m \u001b[0mdotenv\u001b[0m \u001b[1;32mimport\u001b[0m \u001b[0mload_dotenv\u001b[0m\u001b[1;33m\u001b[0m\u001b[1;33m\u001b[0m\u001b[0m\n\u001b[0m\u001b[0;32m      8\u001b[0m \u001b[1;32mimport\u001b[0m \u001b[0malpaca_trade_api\u001b[0m \u001b[1;32mas\u001b[0m \u001b[0mtradeapi\u001b[0m\u001b[1;33m\u001b[0m\u001b[1;33m\u001b[0m\u001b[0m\n\u001b[0;32m      9\u001b[0m \u001b[1;32mfrom\u001b[0m \u001b[0mMCForecastTools\u001b[0m \u001b[1;32mimport\u001b[0m \u001b[0mMCSimulation\u001b[0m\u001b[1;33m\u001b[0m\u001b[1;33m\u001b[0m\u001b[0m\n",
      "\u001b[1;31mModuleNotFoundError\u001b[0m: No module named 'dotenv'"
     ]
    }
   ],
   "source": [
    "import pandas as pd\n",
    "import yfinance as yf\n",
    "from pathlib import Path\n",
    "import os\n",
    "import requests\n",
    "import json\n",
    "from dotenv import load_dotenv\n",
    "import alpaca_trade_api as tradeapi\n",
    "from MCForecastTools import MCSimulation\n",
    "import matplotlib.pyplot as plt\n",
    "from matplotlib.ticker import FuncFormatter\n",
    "##pip install PyPortfolioOpt\n",
    "from pypfopt.efficient_frontier import EfficientFrontier\n",
    "from pypfopt import risk_models\n",
    "from pypfopt import expected_returns\n",
    "from matplotlib.ticker import FuncFormatter\n",
    "\n",
    "%matplotlib inline"
   ]
  },
  {
   "cell_type": "markdown",
   "id": "6df96acb-d9a4-43c0-b8d3-367aa8ce3da0",
   "metadata": {},
   "source": [
    "## Cost Basis: $50,000"
   ]
  },
  {
   "cell_type": "code",
   "execution_count": null,
   "id": "52699369-9f0f-4164-9d38-ced56c48e79b",
   "metadata": {},
   "outputs": [],
   "source": [
    "all_stocks = pd.read_csv('Resources/newstocks.csv', header=1)\n",
    "all_stocks= all_stocks.iloc[:, 0:12]\n",
    "all_stocks = all_stocks.rename(columns={\"Unnamed: 0\":\"Date\"})\n",
    "all_stocks = all_stocks.drop(all_stocks.index[0])\n",
    "all_stocks = all_stocks.set_index(\"Date\")\n",
    "all_stocks = all_stocks.fillna(0)\n",
    "all_stocks.head()"
   ]
  },
  {
   "cell_type": "code",
   "execution_count": null,
   "id": "adf091d4-97c3-48d9-9fea-98f852a23b64",
   "metadata": {},
   "outputs": [],
   "source": [
    "tech_stocks = all_stocks.loc[:, ['AAPL','AMZN', 'GOOGL','MSFT','NVDA']]\n",
    "AVG_TECH = pd.DataFrame()\n",
    "AVG_TECH['AVG_TECH'] = (tech_stocks.iloc[:, 0] + tech_stocks.iloc[:, 1] + tech_stocks.iloc[:, 2] + tech_stocks.iloc[:, 3] + tech_stocks.iloc[:, 4])/5\n",
    "display(AVG_TECH.head())\n",
    "display(tech_stocks.head())\n"
   ]
  },
  {
   "cell_type": "code",
   "execution_count": null,
   "id": "158ea103-64aa-4265-b7bc-599338e1ad84",
   "metadata": {},
   "outputs": [],
   "source": [
    "consumer_stocks = all_stocks.loc[:, ['JNJ','K','KO','PG','WMT']]\n",
    "AVG_CONS = pd.DataFrame()\n",
    "AVG_CONS['AVG_CONS'] = (consumer_stocks.iloc[:, 0] + consumer_stocks.iloc[:, 1] + consumer_stocks.iloc[:, 2] + consumer_stocks.iloc[:, 3] + consumer_stocks.iloc[:, 4])/5\n",
    "display(AVG_CONS.head())\n",
    "display(consumer_stocks.head())\n"
   ]
  },
  {
   "cell_type": "code",
   "execution_count": null,
   "id": "794a2338-f677-4d63-b70d-32dbdae32e7a",
   "metadata": {},
   "outputs": [],
   "source": [
    "sp_500 = all_stocks.loc[:, ['^GSPC']]\n",
    "sp_500.head()"
   ]
  },
  {
   "cell_type": "code",
   "execution_count": null,
   "id": "6c21a923-7481-44db-89b7-66070a4c51ba",
   "metadata": {},
   "outputs": [],
   "source": [
    "tech_stocks.plot(figsize=(20,6), title='Share Price from 2005 to 2023', legend=True, ylabel= \"Share Price\")"
   ]
  },
  {
   "cell_type": "code",
   "execution_count": null,
   "id": "b8e3cc9c-46d4-4c11-beff-b8f39f7de472",
   "metadata": {},
   "outputs": [],
   "source": [
    "consumer_stocks.plot(figsize=(20,6), title='Share Price from 2005 to 2023', legend=True, ylabel= \"Share Price\")"
   ]
  },
  {
   "cell_type": "code",
   "execution_count": null,
   "id": "faf54e18-9cb8-49b8-b8cb-0a1415ef516d",
   "metadata": {},
   "outputs": [],
   "source": [
    "ax = AVG_TECH.plot(figsize=(20,6), title='Average Share Price from 2005 to 2023', legend=True, ylabel= \"Share Price\")\n",
    "AVG_CONS.plot(ax=ax)"
   ]
  },
  {
   "cell_type": "markdown",
   "id": "1cd67715-e9e7-487e-81a0-21549518f0f4",
   "metadata": {},
   "source": [
    "# Daily Returns Tech Stocks"
   ]
  },
  {
   "cell_type": "code",
   "execution_count": null,
   "id": "f104dc77-d57d-4095-8fdc-ed9b3aba0516",
   "metadata": {},
   "outputs": [],
   "source": [
    "display(tech_stocks.head())\n",
    "daily_returns_tech_stocks = tech_stocks.pct_change()\n",
    "daily_returns_tech_stocks = daily_returns_tech_stocks.fillna(0)\n",
    "display(daily_returns_tech_stocks.head())\n",
    "daily_returns_18_year_tech = daily_returns_tech_stocks.loc[\"2005-01-03\":\"2023-04-03\"]\n",
    "daily_returns_18_year_tech.describe()"
   ]
  },
  {
   "cell_type": "markdown",
   "id": "b6634920-b8c8-49c5-be56-4f79b7008211",
   "metadata": {},
   "source": [
    "# Daily Returns Average for Tech Stocks"
   ]
  },
  {
   "cell_type": "code",
   "execution_count": null,
   "id": "f74c18b9-a8c7-4971-9da9-3a58ae10d5d9",
   "metadata": {},
   "outputs": [],
   "source": [
    "display(AVG_TECH.head())\n",
    "daily_returns_avgtech_stocks = AVG_TECH.pct_change()\n",
    "daily_returns_avgtech_stocks = daily_returns_avgtech_stocks.fillna(0)\n",
    "display(daily_returns_avgtech_stocks.head())\n",
    "daily_returns_18_year_avgtech = daily_returns_avgtech_stocks.loc[\"2005-01-03\":\"2023-04-03\"]\n",
    "display(daily_returns_18_year_avgtech.describe())"
   ]
  },
  {
   "cell_type": "markdown",
   "id": "8b65c756-54d7-4758-805b-e96dfdd09c7e",
   "metadata": {},
   "source": [
    "# Daily Returns Consumer Stocks"
   ]
  },
  {
   "cell_type": "code",
   "execution_count": null,
   "id": "72d277f0-87fd-4e87-aeaa-5268bd5f9045",
   "metadata": {},
   "outputs": [],
   "source": [
    "display(consumer_stocks.head())\n",
    "daily_returns_consumer_stocks = consumer_stocks.pct_change()\n",
    "daily_returns_consumer_stocks = daily_returns_consumer_stocks.fillna(0)\n",
    "display(daily_returns_consumer_stocks.head())\n",
    "daily_returns_18_year_consumer = daily_returns_consumer_stocks.loc[\"2005-01-03\":\"2023-04-03\"]\n",
    "daily_returns_18_year_consumer.describe()"
   ]
  },
  {
   "cell_type": "markdown",
   "id": "a6d86a7f-0f2c-4344-b6a9-aac4c50b338c",
   "metadata": {},
   "source": [
    "# Daily Returns Average for Consumer Stocks"
   ]
  },
  {
   "cell_type": "code",
   "execution_count": null,
   "id": "37e34024-bc7a-48bb-a9d5-aec198efe5aa",
   "metadata": {},
   "outputs": [],
   "source": [
    "display(AVG_CONS.head())\n",
    "daily_returns_avgconsumer_stocks = AVG_CONS.pct_change()\n",
    "daily_returns_avgconsumer_stocks = daily_returns_avgconsumer_stocks.fillna(0)\n",
    "display(daily_returns_avgconsumer_stocks.head())\n",
    "daily_returns_18_year_avgconsumer = daily_returns_avgconsumer_stocks.loc[\"2005-01-03\":\"2023-04-03\"]\n",
    "daily_returns_18_year_avgconsumer.describe()"
   ]
  },
  {
   "cell_type": "markdown",
   "id": "be3b401f-c275-420d-afda-29ef67cd6dee",
   "metadata": {},
   "source": [
    "# Daily Returns SP500"
   ]
  },
  {
   "cell_type": "code",
   "execution_count": null,
   "id": "40b09775-d031-4e50-a019-5ef9db5faac7",
   "metadata": {},
   "outputs": [],
   "source": [
    "display(sp_500.head())\n",
    "daily_returns_sp_500 = sp_500.pct_change()\n",
    "daily_returns_sp_500 = daily_returns_sp_500.fillna(0)\n",
    "display(daily_returns_sp_500.head())\n",
    "daily_returns_18_year_sp_500 = daily_returns_sp_500.loc[\"2005-01-03\":\"2023-04-03\"]\n",
    "daily_returns_18_year_sp_500.describe()"
   ]
  },
  {
   "cell_type": "code",
   "execution_count": null,
   "id": "00af1b81-bacd-446d-96dc-0603ac0107c5",
   "metadata": {},
   "outputs": [],
   "source": [
    "cumulative_returns_tech = (1 + daily_returns_tech_stocks).cumprod()\n",
    "cumulative_returns_tech.plot(figsize=(20,6), title=\"Large Cap Tech Stocks Cumulative Returns from 2005-2023\")"
   ]
  },
  {
   "cell_type": "code",
   "execution_count": null,
   "id": "fa17ee4d-fc13-4daa-97ae-c82854444536",
   "metadata": {},
   "outputs": [],
   "source": [
    "cumulative_returns_consumer = (1 + daily_returns_consumer_stocks).cumprod()\n",
    "cumulative_returns_consumer.plot(figsize=(20,6), title=\"Large Cap Consumer Stocks Cumulative Returns from 2005-2023\")"
   ]
  },
  {
   "cell_type": "code",
   "execution_count": null,
   "id": "7e12c997-17b9-4081-80a1-a4f5e11a7af5",
   "metadata": {},
   "outputs": [],
   "source": [
    "cumulative_returns_avgtech = (1 + daily_returns_avgtech_stocks).cumprod()\n",
    "cumulative_returns_avgconsumer = (1 + daily_returns_avgconsumer_stocks).cumprod()\n",
    "cumulative_returns_sp_500 = (1 + daily_returns_sp_500).cumprod()\n",
    "ax = cumulative_returns_avgtech.plot(figsize=(20,6), title=\"Large Cap Stocks Cumulative Returns from 2005-2023\")\n",
    "cumulative_returns_avgconsumer.plot(ax=ax)\n",
    "cumulative_returns_sp_500.plot(ax=ax)"
   ]
  },
  {
   "cell_type": "markdown",
   "id": "0e3a33dc-dfff-4ddb-ace3-9991801a41d9",
   "metadata": {},
   "source": [
    "# Variance For Tech Stocks"
   ]
  },
  {
   "cell_type": "code",
   "execution_count": null,
   "id": "07e29554-d300-487c-b8f8-00ce6b567005",
   "metadata": {},
   "outputs": [],
   "source": [
    "aapl_variance = daily_returns_tech_stocks['AAPL'].var()\n",
    "amzn_variance = daily_returns_tech_stocks['AMZN'].var()\n",
    "googl_variance = daily_returns_tech_stocks['GOOGL'].var()\n",
    "msft_variance = daily_returns_tech_stocks['MSFT'].var()\n",
    "nvda_variance = daily_returns_tech_stocks['NVDA'].var()\n",
    "display(aapl_variance, amzn_variance, googl_variance, msft_variance, nvda_variance)"
   ]
  },
  {
   "cell_type": "markdown",
   "id": "011fe912-ed74-4775-9617-4679056176b5",
   "metadata": {},
   "source": [
    "# Covariance for Tech Stocks"
   ]
  },
  {
   "cell_type": "code",
   "execution_count": null,
   "id": "234f5998-aafa-44e2-b74f-3c5231236225",
   "metadata": {},
   "outputs": [],
   "source": [
    "aapl_cov = daily_returns_tech_stocks['AAPL'].cov(daily_returns_sp_500['^GSPC'])\n",
    "amzn_cov = daily_returns_tech_stocks['AMZN'].cov(daily_returns_sp_500['^GSPC'])\n",
    "googl_cov = daily_returns_tech_stocks['GOOGL'].cov(daily_returns_sp_500['^GSPC'])\n",
    "msft_cov = daily_returns_tech_stocks['MSFT'].cov(daily_returns_sp_500['^GSPC'])\n",
    "nvda_cov = daily_returns_tech_stocks['NVDA'].cov(daily_returns_sp_500['^GSPC'])\n",
    "display(aapl_cov, amzn_cov, googl_cov, msft_cov, nvda_cov)\n"
   ]
  },
  {
   "cell_type": "markdown",
   "id": "0b9b3811-170c-45e5-bbc6-6d77fd6f9b8b",
   "metadata": {},
   "source": [
    "# Beta For Tech Stocks"
   ]
  },
  {
   "cell_type": "code",
   "execution_count": null,
   "id": "40680c4b-68ee-43c2-9bf1-d0f1fbd6adb4",
   "metadata": {},
   "outputs": [],
   "source": [
    "aapl_beta = aapl_cov / aapl_variance\n",
    "amzn_beta = amzn_cov / amzn_variance\n",
    "googl_beta = googl_cov / googl_variance\n",
    "msft_beta = msft_cov / msft_variance\n",
    "nvda_beta = nvda_cov / nvda_variance\n",
    "display(aapl_beta, amzn_beta, googl_beta, msft_beta, nvda_beta)"
   ]
  },
  {
   "cell_type": "markdown",
   "id": "e260665f-1112-4dab-baa6-d7c91f0d88ea",
   "metadata": {},
   "source": [
    "# Rolling Metrics for Tech Stocks"
   ]
  },
  {
   "cell_type": "code",
   "execution_count": null,
   "id": "f3b7b469-f70a-4fb1-a9be-aec675b2f5fb",
   "metadata": {},
   "outputs": [],
   "source": [
    "daily_returns_tech_stocks.rolling(window=180).mean().plot(figsize=(15,5))"
   ]
  },
  {
   "cell_type": "markdown",
   "id": "cf2dca59-9e7c-4c90-8615-57ff72094465",
   "metadata": {},
   "source": [
    "# Variance For Consumer Stocks"
   ]
  },
  {
   "cell_type": "code",
   "execution_count": null,
   "id": "fecd4b4f-e1e5-4568-bb82-b3cc34899f2e",
   "metadata": {},
   "outputs": [],
   "source": [
    "jnj_variance = daily_returns_consumer_stocks['JNJ'].var()\n",
    "jnj_variance"
   ]
  },
  {
   "cell_type": "markdown",
   "id": "111610a4-0cbc-489b-aeaa-51deaaa377a4",
   "metadata": {},
   "source": [
    "# Covariance For Consumer Stocks"
   ]
  },
  {
   "cell_type": "code",
   "execution_count": null,
   "id": "95dee3de-bfb4-4c69-afa7-3cf328bdfdf6",
   "metadata": {},
   "outputs": [],
   "source": [
    "jnj_cov = daily_returns_consumer_stocks['JNJ'].cov(daily_returns_sp_500['^GSPC'])\n",
    "jnj_cov"
   ]
  },
  {
   "cell_type": "markdown",
   "id": "be986fc3-ee5a-4ea2-9204-0666fcb35a9b",
   "metadata": {},
   "source": [
    "# Beta For Consumer Stocks"
   ]
  },
  {
   "cell_type": "code",
   "execution_count": null,
   "id": "118ffd7b-a70c-4de1-b318-265cff745cf9",
   "metadata": {},
   "outputs": [],
   "source": [
    "jnj_beta = jnj_cov / jnj_variance\n",
    "jnj_beta"
   ]
  },
  {
   "cell_type": "markdown",
   "id": "4f9f7a7a-d66e-4cc7-b0c9-be2c75a02809",
   "metadata": {},
   "source": [
    "# Rolling Metrics For Consumer Stocks"
   ]
  },
  {
   "cell_type": "code",
   "execution_count": null,
   "id": "a317bf75-a2ca-43ac-8f57-e1353c61fd82",
   "metadata": {},
   "outputs": [],
   "source": [
    "daily_returns_consumer_stocks.rolling(window=180).mean().plot(figsize=(15,5))"
   ]
  },
  {
   "cell_type": "markdown",
   "id": "2b7247dd-9f40-400e-a2ba-318475f07095",
   "metadata": {},
   "source": [
    "# SP500 and Tech"
   ]
  },
  {
   "cell_type": "code",
   "execution_count": null,
   "id": "89a4220b-3616-451a-bc72-69459f43fcbe",
   "metadata": {},
   "outputs": [],
   "source": [
    "ax = daily_returns_tech_stocks.plot()\n",
    "daily_returns_sp_500.plot(ax=ax)"
   ]
  },
  {
   "cell_type": "markdown",
   "id": "e413c320-b9c3-467a-9492-fb8b29e4539e",
   "metadata": {},
   "source": [
    "# SP500 and Consumer"
   ]
  },
  {
   "cell_type": "code",
   "execution_count": null,
   "id": "ca4dcfb2-b580-47f2-a13f-a4b274fe530e",
   "metadata": {},
   "outputs": [],
   "source": [
    "ax = daily_returns_consumer_stocks.plot()\n",
    "daily_returns_sp_500.plot(ax=ax)"
   ]
  },
  {
   "cell_type": "markdown",
   "id": "f72cf2c3-055d-4b5e-a551-85289d19ceb7",
   "metadata": {},
   "source": [
    "## Tech Stock Portfolio Simulation"
   ]
  },
  {
   "cell_type": "code",
   "execution_count": null,
   "id": "ddee14f1-9217-4b73-8a78-76931e3cbf1d",
   "metadata": {},
   "outputs": [],
   "source": [
    "## Portfolio Asset Allocation:\n",
    "\n",
    "load_dotenv()\n",
    "\n",
    "alpaca_api_key = os.getenv(\"ALPACA_API_KEY\")\n",
    "alpaca_secret_key = os.getenv(\"ALPACA_SECRET_KEY\")\n",
    "type(alpaca_secret_key )\n",
    "\n",
    "\n",
    "alpaca = tradeapi.REST(\n",
    "    alpaca_api_key,\n",
    "    alpaca_secret_key,\n",
    "    api_version = \"v2\"\n",
    ")\n",
    "\n",
    "tickers = [\"AGG\",\"AMZN\", \"GOOGL\", \"AAPL\", \"MSFT\", \"NVDA\"]\n",
    "\n",
    "timeframe = \"1DAY\"\n",
    "\n",
    "start_date = pd.Timestamp(\"2013-04-05\", tz=\"America/New_York\").isoformat()\n",
    "end_date = pd.Timestamp(\"2023-04-05\", tz=\"America/New_York\").isoformat()\n",
    "\n",
    "tech_portfolio = alpaca.get_bars(\n",
    "    tickers,\n",
    "    timeframe,\n",
    "    start = start_date,\n",
    "    end = end_date\n",
    ").df\n",
    "\n",
    "AGG = tech_portfolio[tech_portfolio['symbol']=='AGG'].drop('symbol', axis=1)\n",
    "\n",
    "AMZN = tech_portfolio[tech_portfolio['symbol']=='AMZN'].drop('symbol', axis=1)\n",
    "\n",
    "GOOGL = tech_portfolio[tech_portfolio['symbol']=='GOOGL'].drop('symbol', axis=1)\n",
    "\n",
    "AAPL = tech_portfolio[tech_portfolio['symbol']=='AAPL'].drop('symbol', axis=1)\n",
    "\n",
    "MSFT = tech_portfolio[tech_portfolio['symbol']=='MSFT'].drop('symbol', axis=1)\n",
    "\n",
    "NVDA = tech_portfolio[tech_portfolio['symbol']=='NVDA'].drop('symbol', axis=1)\n",
    "\n",
    "tech_portfolio = pd.concat([AGG,AMZN,GOOGL,AAPL,MSFT,NVDA],axis=1, keys=['AGG','AMZN','GOOGL','AAPL','MSFT','NVDA'])\n",
    "\n",
    "tech_portfolio.head()"
   ]
  },
  {
   "cell_type": "code",
   "execution_count": null,
   "id": "2236e894-4cc3-4000-83c8-dc54a468f6b4",
   "metadata": {},
   "outputs": [],
   "source": [
    "agg_close_price = tech_portfolio[\"AGG\"][\"close\"]\n",
    "\n",
    "print(agg_close_price[-1])\n",
    "\n",
    "AAPL_close_price = tech_portfolio[\"AAPL\"][\"close\"]\n",
    "\n",
    "print(AAPL_close_price[-1])\n",
    "\n",
    "AMZN_close_price = tech_portfolio[\"AMZN\"][\"close\"]\n",
    "\n",
    "print(AMZN_close_price[-1])\n",
    "\n",
    "GOOGL_close_price = tech_portfolio[\"GOOGL\"][\"close\"]\n",
    "\n",
    "print(GOOGL_close_price[-1])\n",
    "\n",
    "MSFT_close_price = tech_portfolio[\"MSFT\"][\"close\"]\n",
    "\n",
    "print(MSFT_close_price[-1])\n",
    "\n",
    "NVDA_close_price = tech_portfolio[\"NVDA\"][\"close\"]\n",
    "\n",
    "print(NVDA_close_price[-1])\n"
   ]
  },
  {
   "cell_type": "code",
   "execution_count": null,
   "id": "7cd28b63-5f69-47e5-8bc0-eb584cb034c3",
   "metadata": {},
   "outputs": [],
   "source": [
    "MC_15year_tech = MCSimulation(\n",
    "    portfolio_data = tech_portfolio,\n",
    "    weights = [.20,.16,.16,.16,.16,.16],\n",
    "    num_simulation = 500,\n",
    "    num_trading_days = 252*15)\n",
    "\n",
    "MC_15year_tech.calc_cumulative_return()"
   ]
  },
  {
   "cell_type": "code",
   "execution_count": null,
   "id": "7c909399-e5af-4c0b-b9ed-07727745dff4",
   "metadata": {},
   "outputs": [],
   "source": [
    "MC_15year_tech.plot_distribution()"
   ]
  },
  {
   "cell_type": "code",
   "execution_count": null,
   "id": "25497fd9-079d-4810-ab4e-b933d05e1125",
   "metadata": {},
   "outputs": [],
   "source": [
    "MC_15year_tech_summary_statistics = MC_15year_tech.summarize_cumulative_return()\n",
    "\n",
    "display(MC_15year_tech_summary_statistics)\n",
    "\n",
    "total_tech_stocks_bonds = 50000\n",
    "\n",
    "ci_lower_15_cumulative_return_tech = MC_15year_tech_summary_statistics[8]*total_tech_stocks_bonds\n",
    "ci_upper_15_cumulative_return_tech = MC_15year_tech_summary_statistics[9]*total_tech_stocks_bonds\n",
    "\n",
    "print(f\"There is a 95% chance that an initial investment of ${total_tech_stocks_bonds} in the portfolio over the next 15 years will end within the range of\"\n",
    "        f\" ${ci_lower_15_cumulative_return_tech} and ${ci_upper_15_cumulative_return_tech}.\")"
   ]
  },
  {
   "cell_type": "markdown",
   "id": "acad1080-07d0-4d60-bbc2-a1aabf3f9926",
   "metadata": {},
   "source": [
    "## Consumer stocks "
   ]
  },
  {
   "cell_type": "code",
   "execution_count": null,
   "id": "21076734-e28c-4b73-a69d-aa4e6cc3c789",
   "metadata": {},
   "outputs": [],
   "source": [
    "load_dotenv()\n",
    "\n",
    "alpaca_api_key = os.getenv(\"ALPACA_API_KEY\")\n",
    "alpaca_secret_key = os.getenv(\"ALPACA_SECRET_KEY\")\n",
    "type(alpaca_secret_key )\n",
    "\n",
    "\n",
    "alpaca = tradeapi.REST(\n",
    "    alpaca_api_key,\n",
    "    alpaca_secret_key,\n",
    "    api_version = \"v2\"\n",
    ")\n",
    "\n",
    "tickers = [\"AGG\",\"JNJ\", \"K\", \"KO\", \"PG\", \"WMT\"]\n",
    "\n",
    "timeframe = \"1DAY\"\n",
    "\n",
    "start_date = pd.Timestamp(\"2013-04-05\", tz=\"America/New_York\").isoformat()\n",
    "end_date = pd.Timestamp(\"2023-04-05\", tz=\"America/New_York\").isoformat()\n",
    "\n",
    "consumer_portfolio = alpaca.get_bars(\n",
    "    tickers,\n",
    "    timeframe,\n",
    "    start = start_date,\n",
    "    end = end_date\n",
    ").df\n",
    "\n",
    "AGG = consumer_portfolio[consumer_portfolio['symbol']=='AGG'].drop('symbol', axis=1)\n",
    "\n",
    "JNJ = consumer_portfolio[consumer_portfolio['symbol']=='JNJ'].drop('symbol', axis=1)\n",
    "\n",
    "K = consumer_portfolio[consumer_portfolio['symbol']=='K'].drop('symbol', axis=1)\n",
    "\n",
    "KO = consumer_portfolio[consumer_portfolio['symbol']=='KO'].drop('symbol', axis=1)\n",
    "\n",
    "PG = consumer_portfolio[consumer_portfolio['symbol']=='PG'].drop('symbol', axis=1)\n",
    "\n",
    "WMT = consumer_portfolio[consumer_portfolio['symbol']=='WMT'].drop('symbol', axis=1)\n",
    "\n",
    "consumer_portfolio = pd.concat([AGG,JNJ,K,KO,PG,WMT],axis=1, keys=['AGG','JNJ','K','KO','PG','WMT'])\n",
    "\n",
    "consumer_portfolio.head()"
   ]
  },
  {
   "cell_type": "code",
   "execution_count": null,
   "id": "6a532df0-da8a-4e67-897a-9ef532c34076",
   "metadata": {},
   "outputs": [],
   "source": [
    "agg_close_price = consumer_portfolio[\"AGG\"][\"close\"]\n",
    "\n",
    "print(f\"The closing price for AGG was ${agg_close_price[-1]}.\")\n",
    "\n",
    "JNJ_close_price = consumer_portfolio[\"JNJ\"][\"close\"]\n",
    "\n",
    "print(f\"The closing price for Johnson and Johnson was ${JNJ_close_price[-1]}.\")\n",
    "\n",
    "K_close_price = consumer_portfolio[\"K\"][\"close\"]\n",
    "\n",
    "print(f\"The closing price for Kellogg was ${K_close_price[-1]}.\")\n",
    "\n",
    "KO_close_price = consumer_portfolio[\"KO\"][\"close\"]\n",
    "\n",
    "print(f\"The closing price for Coca Cola was ${KO_close_price[-1]}.\")\n",
    "\n",
    "PG_close_price = consumer_portfolio[\"PG\"][\"close\"]\n",
    "\n",
    "print(f\"The closing price for Proctor and Gamble was ${PG_close_price[-1]}.\")\n",
    "\n",
    "WMT_close_price = consumer_portfolio[\"WMT\"][\"close\"]\n",
    "\n",
    "print(f\"The closing price for Walmart was ${WMT_close_price[-1]}.\")\n",
    "\n",
    "print(\"Given the above closing prices and the equal asset allocation amongst all the consumer stocks using a cost basis of $50,000, the following are the number of shares\")"
   ]
  },
  {
   "cell_type": "code",
   "execution_count": null,
   "id": "81ba7ce1-727a-4d0b-98e7-a913fc1f3ea3",
   "metadata": {},
   "outputs": [],
   "source": [
    "MC_15year_consumer = MCSimulation(\n",
    "    portfolio_data = tech_portfolio,\n",
    "    weights = [.20,.16,.16,.16,.16,.16],\n",
    "    num_simulation = 500,\n",
    "    num_trading_days = 252*15)\n",
    "\n",
    "MC_15year_consumer.calc_cumulative_return()\n",
    "\n",
    "MC_15year_consumer.plot_distribution()"
   ]
  },
  {
   "cell_type": "code",
   "execution_count": null,
   "id": "54967321-ce9c-4537-9348-df6886db98c1",
   "metadata": {},
   "outputs": [],
   "source": [
    "MC_15year_consumer_summary_statistics = MC_15year_consumer.summarize_cumulative_return()\n",
    "\n",
    "display(MC_15year_consumer_summary_statistics)"
   ]
  },
  {
   "cell_type": "code",
   "execution_count": null,
   "id": "88caee8e-6250-4148-a976-847844cf0cab",
   "metadata": {},
   "outputs": [],
   "source": [
    "total_consumer_stocks_bonds = 50000\n",
    "ci_lower_15_cumulative_return_consumer = MC_15year_consumer_summary_statistics[8]*total_consumer_stocks_bonds\n",
    "ci_upper_15_cumulative_return_consumer = MC_15year_consumer_summary_statistics[9]*total_consumer_stocks_bonds\n",
    "\n",
    "print(f\"There is a 95% chance that an initial investment of {total_consumer_stocks_bonds} in the portfolio over the next 15 years will end within the range of\"\n",
    "        f\" ${ci_lower_15_cumulative_return_consumer} and ${ci_upper_15_cumulative_return_consumer}.\")"
   ]
  },
  {
   "cell_type": "markdown",
   "id": "9ab7918e-bff9-4596-b5cb-53d4dfd57ffe",
   "metadata": {},
   "source": [
    "## Analysis of Portfolio Valuations:\n",
    "\n",
    "#Need annualized returns, std dev for annualized returns portfolio a and b"
   ]
  },
  {
   "cell_type": "code",
   "execution_count": null,
   "id": "8a18a485-b7c9-4f06-9bcb-03e29f94ff59",
   "metadata": {},
   "outputs": [],
   "source": [
    "MC_15year_consumer_daily = MC_15year_consumer.calculate_daily_return()\n",
    "display(MC_15year_consumer_daily)"
   ]
  },
  {
   "cell_type": "markdown",
   "id": "4d370a5f-98d7-432d-83e5-0286badd50b0",
   "metadata": {},
   "source": [
    "## Portfolio C:\n",
    "## How to Select Stocks in Portfolio - USE CAPM model - MSFT, KO, AAPL, PG, AMZN?"
   ]
  },
  {
   "cell_type": "code",
   "execution_count": null,
   "id": "534b6f25-da9f-44e7-9120-5fba07c759b1",
   "metadata": {},
   "outputs": [],
   "source": [
    "tickers = ['MSFT','KO','AAPL','PG','AMZN']\n",
    "len_tickers = len(tickers)\n",
    "price_data = []\n",
    "for ticker in range(len_tickers):\n",
    "   prices = web.DataReader(tickers[ticker], start='2018-06-20', end = '2020-06-20', data_source='yahoo')\n",
    "   price_data.append(prices[['Adj Close']])\n",
    "df_stocks = pd.concat(price_data, axis=1)\n",
    "df_stocks.columns=tickers\n",
    "df_stocks.tail()"
   ]
  },
  {
   "cell_type": "markdown",
   "id": "db919ec4-9916-4bdd-9ed2-125da9a44b47",
   "metadata": {
    "tags": []
   },
   "source": [
    "## TASKS:\n",
    "\n",
    "## Calculate Performance Metrics\n",
    "\n",
    "## Analysis\n",
    "\n",
    "## Portfolio C: Which 5 stocks out of these 10 would give the highest risk-adjusted return? (Highest Ratios)\n",
    "\n",
    "## CAPM"
   ]
  },
  {
   "cell_type": "code",
   "execution_count": null,
   "id": "43b6713d-b42e-488f-b7d1-bae1e9d1ba36",
   "metadata": {},
   "outputs": [],
   "source": []
  },
  {
   "cell_type": "code",
   "execution_count": null,
   "id": "ad3a1872-2835-4123-9c35-128b282ed684",
   "metadata": {},
   "outputs": [],
   "source": []
  }
 ],
 "metadata": {
  "kernelspec": {
   "display_name": "Python 3 (ipykernel)",
   "language": "python",
   "name": "python3"
  },
  "language_info": {
   "codemirror_mode": {
    "name": "ipython",
    "version": 3
   },
   "file_extension": ".py",
   "mimetype": "text/x-python",
   "name": "python",
   "nbconvert_exporter": "python",
   "pygments_lexer": "ipython3",
   "version": "3.9.13"
  }
 },
 "nbformat": 4,
 "nbformat_minor": 5
}
